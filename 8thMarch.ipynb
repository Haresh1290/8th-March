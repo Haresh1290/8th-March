{
 "cells": [
  {
   "cell_type": "markdown",
   "id": "c9ac408a-bb01-47e6-8ce0-b4e97cd6d557",
   "metadata": {},
   "source": [
    "Q1. What is the Probability density function?\n",
    "\n",
    "\n",
    "A function that defines the relationship between a random variable and its probability, such that you can find the probability of the variable using the function, is called a Probability Density Function (PDF) in statistics.\n",
    "Summarizing the density with a histogram: You first convert the data into discrete form by plotting it as a histogram. A histogram is a graph with categorical values on the x-axis and bins of different heights, giving you a count of the values in that category. The number of bins is crucial as it determines how many bars the histogram will have and their width. This will tell you how it will plot your density.\n",
    "Performing Parametric density estimation: A PDF can take on a shape similar to many standard functions. The shape of the histogram will help you determine which type of function it is. You can calculate the parameters associated with the function to get our density. To check if our histogram is an excellent fit for the function, you can:\n"
   ]
  },
  {
   "cell_type": "markdown",
   "id": "441e0eda-b2f3-48f5-872a-53f49b65dcc1",
   "metadata": {},
   "source": [
    "Q2. What are the types of Probability distribution?\n",
    "\n",
    "Types of Distributions\n",
    "Here is a list of distributions types\n",
    "\n",
    "Bernoulli Distribution-\n",
    "A Bernoulli distribution has only two bernoulli trials or possible outcomes, namely 1 (success) and 0 (failure), and a single trial. So the random variable X with a Bernoulli distribution can take the value 1 with the probability of success, say p, and the value 0 with the probability of failure, say q or 1-p.\n",
    "\n",
    "Here, the occurrence of a head denotes success, and the occurrence of a tail denotes failure.\n",
    "Probability of getting a head = 0.5 = Probability of getting a tail since there are only two possible outcomes.\n",
    "\n",
    "Uniform Distribution-\n",
    "When you roll a fair die, the outcomes are 1 to 6. The probabilities of getting these outcomes are equally likely, which is the basis of a uniform distribution. Unlike Bernoulli Distribution, all the n number of possible outcomes of a uniform distribution are equally likely.\n",
    "\n",
    "\n",
    "\n",
    "Binomial Distribution-\n",
    "Suppose you won the toss today, indicating a successful event. You toss again, but you lose this time. If you win a toss today, this does not necessitate that you will win the toss tomorrow. Let’s assign a random variable, say X, to the number of times you won the toss. What can be the possible value of X? It can be any number depending on the number of times you tossed a coin.\n",
    "\n",
    "There are only two possible outcomes. Head denoting success and tail denoting failure. Therefore, the probability of getting a head = 0.5 and the probability of failure can be easily computed as: q = 1- p = 0.5.\n",
    "\n",
    "A distribution where only two outcomes are possible, such as success or failure, gain or loss, win or lose and where the probability of success and failure is the same for all the trials is called a Binomial Distribution.\n",
    "\n",
    "\n",
    "Normal or Gaussian Distribution-\n",
    "The normal distribution represents the behavior of most of the situations in the universe (That is why it’s called a “normal” distribution. I guess!). The large sum of (small) random variables often turns out to be normally distributed, contributing to its widespread application. Any distribution is known as Normal distribution if it has the following characteristics:\n",
    "\n",
    "The mean, median, and mode of the distribution coincide.\n",
    "The curve of the distribution is bell-shaped and symmetrical about the line x=μ.\n",
    "The total area under the curve is 1.\n",
    "Exactly half of the values are to the left of the center, and the other half to the right.\n",
    "\n",
    "\n",
    "Exponential Distribution-\n",
    "Let’s consider the call center example one more time. What about the interval of time between the calls? Here, the exponential distribution comes to our rescue. Exponential distribution models the interval of time between the calls.\n",
    "\n",
    "Other examples are:\n",
    "\n",
    "1. Length of time between metro arrivals\n",
    "2. Length of time between arrivals at a gas station\n",
    "3. The life of an air conditioner\n",
    "\n",
    "\n",
    "\n",
    "\n",
    "\n",
    "Poisson Distribution-\n",
    "Suppose you work at a call center; approximately how many calls do you get in a day? It can be any number. Now, the entire number of calls at a call center in a day is modeled by Poisson distribution. Some more examples are:\n",
    "\n",
    "The number of emergency calls recorded at a hospital in a day.\n",
    "The number of thefts reported in an area in a day.\n",
    "The number of customers arriving at a salon in an hour.\n",
    "The number of suicides reported in a particular city.\n",
    "The number of printing errors on each page of the book.\n",
    "\n",
    "\n",
    "\n"
   ]
  },
  {
   "cell_type": "code",
   "execution_count": 1,
   "id": "e185d662-ca6f-4b7d-a3a2-3e77bf249584",
   "metadata": {},
   "outputs": [
    {
     "name": "stdout",
     "output_type": "stream",
     "text": [
      "0.0804410163156249\n"
     ]
    }
   ],
   "source": [
    "# Q3. Write a Python function to calculate the probability density function of a normal distribution with\n",
    "# given mean and standard deviation at a given point.\n",
    "from scipy.stats import norm\n",
    "import numpy as np\n",
    "\n",
    "data_start = -5\n",
    "data_end = 5\n",
    "data_points = 11\n",
    "data = np.linspace(data_start, data_end, data_points)\n",
    "\n",
    "mean = np.mean(data)\n",
    "std = np.std(data)\n",
    "\n",
    "probability_pdf = norm.pdf(3, loc=mean, scale=std)\n",
    "print(probability_pdf)\n"
   ]
  },
  {
   "cell_type": "markdown",
   "id": "f096429f-5e36-4810-9597-80ce676d1b38",
   "metadata": {},
   "source": [
    "Q4. What are the properties of Binomial distribution? Give two examples of events where binomial\n",
    "distribution can be applied.\n",
    "In probability theory and statistics, the binomial distribution is the discrete probability distribution that gives only two possible results in an experiment, either Success or Failure. For example, if we toss a coin, there could be only two possible outcomes: heads or tails, and if any test is taken, then there could be only two results: pass or fail. This distribution is also called a binomial probability distribution.\n",
    "\n",
    "\n",
    "\n",
    "There are two parameters n and p used here in a binomial distribution. The variable ‘n’ states the number of times the experiment runs and the variable ‘p’ tells the probability of any one outcome. Suppose a die is thrown randomly 10 times, then the probability of getting 2 for anyone throw is ⅙. When you throw the dice 10 times, you have a binomial distribution of n = 10 and p = ⅙. Learn the formula to calculate the two outcome distribution among multiple experiments along with solved examples here in this article.\n",
    "Binomial Probability Distribution\n",
    "In binomial probability distribution, the number of ‘Success’ in a sequence of n experiments, where each time a question is asked for yes-no, then the boolean-valued outcome is represented either with success/yes/true/one (probability p) or failure/no/false/zero (probability q = 1 − p). A single success/failure test is also called a Bernoulli trial or Bernoulli experiment, and a series of outcomes is called a Bernoulli process. For n = 1, i.e. a single experiment, the binomial distribution is a Bernoulli distribution. The binomial distribution is the base for the famous binomial test of statistical importance.\n",
    "\n",
    "\n",
    "\n",
    "Negative Binomial Distribution\n",
    "In probability theory and statistics, the number of successes in a series of independent and identically distributed Bernoulli trials before a particularised number of failures happens. It is termed as the negative binomial distribution. Here the number of failures is denoted by ‘r’. For instance, if we throw a dice and determine the occurrence of 1 as a failure and all non-1’s as successes. Now, if we throw a dice frequently until 1 appears the third time, i.e., r = three failures, then the probability distribution of the number of non-1s that arrived would be the negative binomial distribution.\n",
    "\n",
    "\n",
    "Binomial Distribution Examples\n",
    "As we already know, binomial distribution gives the possibility of a different set of outcomes. In real life, the concept is used for:\n",
    "\n",
    "Finding the quantity of raw and used materials while making a product.\n",
    "Taking a survey of positive and negative reviews from the public for any specific product or place.\n",
    "By using the YES/ NO survey, we can check whether the number of persons views the particular channel.\n",
    "To find the number of male and female employees in an organisation.\n",
    "The number of votes collected by a candidate in an election is counted based on 0 or 1 probability."
   ]
  },
  {
   "cell_type": "code",
   "execution_count": 7,
   "id": "d4778ae7-d010-4b5b-ac70-46f51aebc5d7",
   "metadata": {},
   "outputs": [
    {
     "name": "stderr",
     "output_type": "stream",
     "text": [
      "/tmp/ipykernel_113/727462719.py:8: UserWarning: \n",
      "\n",
      "`distplot` is a deprecated function and will be removed in seaborn v0.14.0.\n",
      "\n",
      "Please adapt your code to use either `displot` (a figure-level function with\n",
      "similar flexibility) or `histplot` (an axes-level function for histograms).\n",
      "\n",
      "For a guide to updating your code to use the new functions, please see\n",
      "https://gist.github.com/mwaskom/de44147ed2974457ad6372750bbe5751\n",
      "\n",
      "  sns.distplot(random.binomial(n=10, p=0.4, size=1000), hist=True, kde=False)\n"
     ]
    },
    {
     "data": {
      "image/png": "[encoded data removed]",
      "text/plain": [
       "<Figure size 640x480 with 1 Axes>"
      ]
     },
     "metadata": {},
     "output_type": "display_data"
    }
   ],
   "source": [
    "# Q5. Generate a random sample of size 1000 from a binomial distribution with probability of success 0.4\n",
    "# and plot a histogram of the results using matplotlib.\n",
    "\n",
    "from numpy import random\n",
    "import matplotlib.pyplot as plt\n",
    "import seaborn as sns\n",
    "\n",
    "sns.distplot(random.binomial(n=10, p=0.4, size=1000), hist=True, kde=False)\n",
    "\n",
    "plt.show()"
   ]
  },
  {
   "cell_type": "code",
   "execution_count": 10,
   "id": "430b799e-ff2b-4e77-87a6-099fe4e21d6b",
   "metadata": {},
   "outputs": [
    {
     "data": {
      "text/plain": [
       "array([4, 3, 4, 2, 2, 3, 7, 4, 1, 3])"
      ]
     },
     "execution_count": 10,
     "metadata": {},
     "output_type": "execute_result"
    }
   ],
   "source": [
    "# Q6. Write a Python function to calculate the cumulative distribution function of a Poisson distribution\n",
    "# with given mean at a given point.\n",
    "\n",
    "# Poisson Distribution\n",
    "# Poisson Distribution is a Discrete Distribution.\n",
    "\n",
    "# It estimates how many times an event can happen in a specified time. e.g. If someone eats twice a day what is the probability he will eat thrice?\n",
    "\n",
    "# It has two parameters:\n",
    "\n",
    "# lam - rate or known number of occurrences e.g. 2 for above problem.\n",
    "\n",
    "# size - The shape of the returned array.\n",
    "\n",
    "from scipy.stats import poisson\n",
    "\n",
    "#generate random values from Poisson distribution with mean=3 and sample size=10\n",
    "poisson.rvs(mu=3, size=10)\n",
    "\n",
    "\n"
   ]
  },
  {
   "cell_type": "markdown",
   "id": "8dc6d341-f79d-4556-885d-aa8ef35bec22",
   "metadata": {},
   "source": [
    "Q7. How Binomial distribution different from Poisson distribution?\n",
    "Binomial Distribution-\n",
    "It is biparametric, i.e. it has 2 parameters n and p.\n",
    "\n",
    "The number of attempts are fixed.\n",
    "\n",
    "The probability of success is constant.\n",
    "\n",
    "There are only two possible outcomes-Success or failure\n",
    "\n",
    "Mean>Variance.\n",
    "\n",
    "Poisson Distribution-\n",
    "It is uniparametric, i.e. it has only 1 parameter m.\n",
    "\n",
    "The number of attempts are unlimited.\n",
    "\n",
    "The probability of success is extremely small.\n",
    "\n",
    "There are unlimited possible outcomes.\n",
    "\n",
    "Mean=Variance"
   ]
  },
  {
   "cell_type": "code",
   "execution_count": 11,
   "id": "c062b750-2322-4bef-8901-76458d67e95f",
   "metadata": {},
   "outputs": [
    {
     "data": {
      "text/plain": [
       "array([ 5,  7,  7,  6,  1,  3,  3,  2,  6,  8,  6,  4,  4,  5,  5,  4,  4,\n",
       "       11,  5,  6,  5,  5, 12,  6,  6,  6,  2,  7,  4,  6,  5,  3,  5,  5,\n",
       "        6,  6,  2,  3,  6,  5,  1,  6,  4,  6,  5,  5,  5, 11,  6,  7,  3,\n",
       "        4,  5,  6,  4,  3, 11,  5,  7,  3, 12,  2,  2,  8,  6,  5,  7,  7,\n",
       "        6,  5,  3,  5,  7,  2,  5,  4,  3,  5,  5,  3,  4,  5,  6,  7,  4,\n",
       "        2,  7,  3,  6,  7,  2,  6,  6,  8,  5,  6,  6,  5,  4, 10,  5,  6,\n",
       "       10,  6,  6,  7,  3,  3,  3,  8,  6,  3,  2, 11,  3,  8,  4,  4, 10,\n",
       "        8,  3,  4,  4,  3,  7,  0,  2,  6,  4,  7,  3,  4,  3,  4,  5,  6,\n",
       "        8,  7,  4,  6,  6,  2,  6, 10,  3,  7,  6,  3,  8,  8,  3,  5,  5,\n",
       "        5,  2,  9,  9,  4,  7,  7,  3,  5,  6,  3,  6,  0,  3,  5,  7,  6,\n",
       "        5, 13,  8,  5,  5,  3,  3,  7,  5,  5,  4,  8,  6,  6,  2,  9,  7,\n",
       "        5,  7,  6,  5,  3,  7,  5,  6,  6,  6,  7,  5,  5,  8,  3,  5,  3,\n",
       "        3,  6,  0,  6,  2,  2, 11,  6,  3,  7,  9,  4,  8,  6,  3,  3,  7,\n",
       "        5,  6,  1,  5,  4,  6,  6,  6,  4,  7,  5,  2,  0,  3,  5,  1,  7,\n",
       "        3,  5,  3,  4,  5,  6,  3,  3,  3,  5,  9,  7, 10,  9,  3,  6,  6,\n",
       "        8,  4,  3,  7,  4,  4,  7,  5,  6,  6,  9,  2,  4,  7,  7, 10,  4,\n",
       "        4,  5,  7,  4,  6,  3,  3,  9,  9,  8,  5,  5,  4,  4,  2,  5,  7,\n",
       "        5, 10,  5,  6,  4,  3,  7,  2,  6,  3,  5,  5,  9,  3,  6,  3,  1,\n",
       "        7,  4,  6,  3,  4,  9,  4,  3,  4,  9,  4,  6, 11,  4,  3,  6,  3,\n",
       "        3,  4,  6, 10,  6,  4,  5,  3,  2,  4,  7,  6,  5,  8,  4,  4,  1,\n",
       "        8,  3,  6,  7,  8,  4,  8,  5,  5,  7,  1,  3,  7,  8,  5,  2,  7,\n",
       "        5,  5,  5,  8,  6, 11,  5,  5,  8,  6,  1,  4,  7,  7,  7,  8,  5,\n",
       "        7,  5,  3,  3,  4,  5, 11,  5,  6,  5,  3,  2,  2,  6,  4,  2,  7,\n",
       "        2,  8,  4,  2,  7,  8,  4,  4,  1,  7, 10,  4,  9,  6,  4,  8,  1,\n",
       "        3,  8,  5,  6,  3,  5,  1,  6,  5,  5,  8,  2,  4,  4,  3,  6,  6,\n",
       "       12,  7,  2,  2,  4,  4,  7,  4,  2,  3,  4,  7,  7,  5,  6,  5,  2,\n",
       "        6,  3,  5,  6,  4,  4,  3,  6,  2,  6,  4,  7,  5,  6,  7,  4,  2,\n",
       "        7,  9,  2,  6,  4,  6,  4,  7,  4, 10,  3,  4,  5,  2,  6,  9,  5,\n",
       "        9,  4,  5,  2,  3,  3,  6,  4,  4,  6,  3,  5,  8,  3,  4,  3,  5,\n",
       "        3,  5,  4,  4,  5,  6,  4,  4,  3,  9,  8,  1,  5,  8,  4,  9,  3,\n",
       "        8,  7,  2,  1,  4,  8,  4,  3,  8,  1,  7,  8,  7,  7,  6,  5,  4,\n",
       "        1,  6,  2,  6,  5,  7,  6,  6,  8,  4,  4,  9,  7,  5,  8,  4,  4,\n",
       "        7,  5,  8,  5,  7,  6,  8,  1,  5,  0,  4,  8,  5,  5,  5,  2,  5,\n",
       "        4,  4,  5,  5,  5,  4,  4,  3,  7,  5,  3,  8,  8,  6,  5,  5,  4,\n",
       "        8,  4,  3,  3,  7,  2,  9,  4,  5,  3,  4,  2,  4,  7,  6,  3,  3,\n",
       "        5,  3,  4,  7,  4,  7,  7,  5, 10, 10,  4,  5,  3,  5,  3,  2,  5,\n",
       "        6,  4,  7,  4,  4,  8, 10,  5,  4,  7,  5,  3,  1,  3,  6,  5,  4,\n",
       "        9,  5,  6,  5,  6,  7,  2,  4,  4,  9,  2,  6,  4,  2,  9,  6,  4,\n",
       "        4,  3,  4,  4,  4,  6,  5,  9,  6, 10,  3,  1,  4,  4,  5,  8,  2,\n",
       "        5,  1,  3,  8,  9, 11,  5,  9,  6,  5,  2,  9,  3,  5,  4,  4,  1,\n",
       "        3,  6,  8,  5,  7,  4,  9,  2,  2,  8,  5,  6,  8,  6,  7,  1,  7,\n",
       "        5,  8,  6,  4,  9,  8,  3,  4,  6,  1,  5,  1,  3, 10,  6,  5,  5,\n",
       "        8,  3,  5,  9,  7,  5,  6,  5,  7,  3,  6,  3,  5,  4,  2,  3,  3,\n",
       "        7,  6,  7,  4,  4,  5,  6,  7, 10,  4,  3,  1,  5,  6,  1,  6,  3,\n",
       "        2,  2,  6,  4, 10,  4,  2,  8,  4,  8,  7,  5,  3,  5,  7,  6,  9,\n",
       "        5,  7,  8,  4,  3,  3,  4,  5,  7,  5,  6,  4,  5,  7,  3,  9,  5,\n",
       "        5,  9, 11,  6,  4,  7,  6,  2,  4,  7,  7,  2,  8,  4,  2,  5,  3,\n",
       "        6,  3,  7,  2,  7,  4,  6,  3, 11,  9,  3,  2,  7,  7,  4,  4,  2,\n",
       "        4,  2,  6,  3,  3,  3,  4,  2,  3,  7,  8,  4,  6,  3,  6,  4,  7,\n",
       "        7,  6,  3,  9,  6,  3, 10,  3,  2,  4,  1,  6,  2,  4,  3,  5, 11,\n",
       "        4,  8,  7,  7,  5,  8,  3,  5,  7,  3,  5,  9,  8,  6,  5,  8,  6,\n",
       "        8,  7,  6,  4,  6,  1,  7,  5,  6,  3,  8,  2,  6,  5, 11,  5,  7,\n",
       "        6,  5,  4,  4,  7,  5,  4, 11,  6,  3,  8,  3,  6,  4,  5,  2,  7,\n",
       "        5,  2,  7,  3,  4,  7,  2,  2,  6,  5,  3,  5,  4,  4,  2,  3,  8,\n",
       "        5,  8,  7,  5,  6,  6,  3,  7,  3,  3,  3,  2,  4,  4,  4,  8,  6,\n",
       "        6,  6, 11,  4,  4,  3,  2,  5,  3,  2,  2,  4,  0,  7,  0,  3,  3,\n",
       "        6,  6,  5,  4,  4,  7,  4,  9,  7,  6,  9,  8,  6,  2,  8,  8,  5,\n",
       "        5,  7,  7,  8,  7,  2,  3,  6,  5,  4,  4,  8,  3,  4,  6,  4, 11,\n",
       "        5,  6,  7,  5,  1,  4,  6,  6, 10,  2,  3,  5,  8,  7])"
      ]
     },
     "execution_count": 11,
     "metadata": {},
     "output_type": "execute_result"
    }
   ],
   "source": [
    "# Q8. Generate a random sample of size 1000 from a Poisson distribution with mean 5 and calculate the\n",
    "# sample mean and variance.\n",
    "\n",
    "#generate random values from Poisson distribution with mean=5 and sample size=1000\n",
    "poisson.rvs(mu=5, size=1000)"
   ]
  },
  {
   "cell_type": "markdown",
   "id": "2f091cc2-9f24-4ac4-aa3f-a2f299ac2608",
   "metadata": {},
   "source": [
    "Q9. How mean and variance are related in Binomial distribution and Poisson distribution?\n",
    "\n",
    "The mean of the binomial distribution is np, and the variance of the binomial distribution is np (1 − p). When p = 0.5, the distribution is symmetric around the mean—such as when flipping a coin because the chances of getting heads or tails is 50%, or 0.5. When p > 0.5, the distribution curve is skewed to the left. When p < 0.5, the distribution curve is skewed to the right.\n",
    "\n",
    "\n",
    "If μ is the average number of successes occurring in a given time interval or region in the Poisson distribution. Then the mean and the variance of the Poisson distribution are both equal to μ.\n",
    "\n",
    "Thus,\n",
    "\n",
    "E(X) = μ\n",
    "and\n",
    "\n",
    "V(X) = σ2=μ\n",
    "Remember that, in a Poisson distribution, only one parameter, μ is needed to determine the probability of any given event."
   ]
  },
  {
   "cell_type": "markdown",
   "id": "5cd12bd2-037c-403a-932a-12d90de27ff0",
   "metadata": {},
   "source": [
    "Q10. In normal distribution with respect to mean position, where does the least frequent data appear?\n",
    "The empirical rule, also known as the three-sigma rule or the 68-95-99.7 rule, is a statistical rule that states that almost all observed data for a normal distribution will fall within three standard deviations (denoted by σ) of the mean or average (denoted by µ).\n",
    "\n",
    "According to this rule, 68% of the data falls within one standard deviation, 95% within two standard deviations, and 99.7% within three standard deviations from the mean.\n",
    "\n",
    "When you reasonably expect your data to approximate a normal distribution, the mean and standard deviation become even more valuable, thanks to the empirical rule. You can calculate probabilities and percentages for various outcomes simply by knowing these two statistics.\n",
    "\n",
    "Example of a Normal Distribution\n",
    "Many naturally-occurring phenomena appear to be normally-distributed. Take, for example, the distribution of the heights of human beings. The average height is found to be roughly 175 cm (5' 9\"), counting both males and females.\n",
    "\n",
    "As the chart below shows, most people conform to that average. Meanwhile, taller and shorter people exist, but with decreasing frequency in the population. According to the empirical rule, 99.7% of all people will fall with +/- three standard deviations of the mean, or between 154 cm (5' 0\") and 196 cm (6' 5\"). Those taller and shorter than this would be quite rare (just 0.15% of the population each).\n",
    "\n",
    "\n"
   ]
  },
  {
   "cell_type": "code",
   "execution_count": null,
   "id": "ce60ab84-19a9-4d29-9988-7ee8104e9b6c",
   "metadata": {},
   "outputs": [],
   "source": []
  }
 ],
 "metadata": {
  "kernelspec": {
   "display_name": "Python 3 (ipykernel)",
   "language": "python",
   "name": "python3"
  },
  "language_info": {
   "codemirror_mode": {
    "name": "ipython",
    "version": 3
   },
   "file_extension": ".py",
   "mimetype": "text/x-python",
   "name": "python",
   "nbconvert_exporter": "python",
   "pygments_lexer": "ipython3",
   "version": "3.10.8"
  }
 },
 "nbformat": 4,
 "nbformat_minor": 5
}
